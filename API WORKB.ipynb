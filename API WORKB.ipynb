{
  "nbformat": 4,
  "nbformat_minor": 0,
  "metadata": {
    "colab": {
      "provenance": [],
      "authorship_tag": "ABX9TyMZ2YBXnpc4OilEYDxy0MrG",
      "include_colab_link": true
    },
    "kernelspec": {
      "name": "python3",
      "display_name": "Python 3"
    },
    "language_info": {
      "name": "python"
    }
  },
  "cells": [
    {
      "cell_type": "markdown",
      "metadata": {
        "id": "view-in-github",
        "colab_type": "text"
      },
      "source": [
        "<a href=\"https://colab.research.google.com/github/grainedusabe02/Dusabe-Graine-2405001270-/blob/main/API%20WORKB.ipynb\" target=\"_parent\"><img src=\"https://colab.research.google.com/assets/colab-badge.svg\" alt=\"Open In Colab\"/></a>"
      ]
    },
    {
      "cell_type": "code",
      "execution_count": null,
      "metadata": {
        "id": "7WENXHuoixYt"
      },
      "outputs": [],
      "source": []
    },
    {
      "cell_type": "code",
      "source": [
        "import requests\n",
        "import json"
      ],
      "metadata": {
        "id": "pPgdKe_lPdXl"
      },
      "execution_count": 1,
      "outputs": []
    },
    {
      "cell_type": "markdown",
      "source": [
        "!pip3 install requests\n"
      ],
      "metadata": {
        "id": "cnCIb8kkRkP6"
      }
    },
    {
      "cell_type": "code",
      "source": [
        "!pip3 install requests"
      ],
      "metadata": {
        "colab": {
          "base_uri": "https://localhost:8080/"
        },
        "id": "zNIZvCi_SK9M",
        "outputId": "38cf0fb9-dff1-471d-9552-be53d8213a5b"
      },
      "execution_count": 2,
      "outputs": [
        {
          "output_type": "stream",
          "name": "stdout",
          "text": [
            "Requirement already satisfied: requests in /usr/local/lib/python3.11/dist-packages (2.32.3)\n",
            "Requirement already satisfied: charset-normalizer<4,>=2 in /usr/local/lib/python3.11/dist-packages (from requests) (3.4.2)\n",
            "Requirement already satisfied: idna<4,>=2.5 in /usr/local/lib/python3.11/dist-packages (from requests) (3.10)\n",
            "Requirement already satisfied: urllib3<3,>=1.21.1 in /usr/local/lib/python3.11/dist-packages (from requests) (2.4.0)\n",
            "Requirement already satisfied: certifi>=2017.4.17 in /usr/local/lib/python3.11/dist-packages (from requests) (2025.7.9)\n"
          ]
        }
      ]
    },
    {
      "cell_type": "code",
      "source": [
        "result = requests.get('https://api.stackexchange.com/2.3/questions?order=desc&sort=activity&site=stackoverflow')\n",
        "print (result)"
      ],
      "metadata": {
        "colab": {
          "base_uri": "https://localhost:8080/"
        },
        "id": "xUiBqZ0dSe9j",
        "outputId": "7a5c21ee-f5c8-4c4a-976d-2d73168e99ae"
      },
      "execution_count": 3,
      "outputs": [
        {
          "output_type": "stream",
          "name": "stdout",
          "text": [
            "<Response [200]>\n"
          ]
        }
      ]
    },
    {
      "cell_type": "code",
      "source": [
        "print(result.json())"
      ],
      "metadata": {
        "colab": {
          "base_uri": "https://localhost:8080/"
        },
        "id": "9L5TWZ6QTcLV",
        "outputId": "e60931e7-7669-463b-fdfb-eb2f2ac68faf"
      },
      "execution_count": 4,
      "outputs": [
        {
          "output_type": "stream",
          "name": "stdout",
          "text": [
            "{'items': [{'tags': ['ios', 'swiftui', 'mvvm'], 'owner': {'account_id': 338548, 'reputation': 1425, 'user_id': 667483, 'user_type': 'registered', 'accept_rate': 33, 'profile_image': 'https://i.sstatic.net/NSGaC.gif?s=256', 'display_name': 'surfrider', 'link': 'https://stackoverflow.com/users/667483/surfrider'}, 'is_answered': False, 'view_count': 2, 'answer_count': 0, 'score': 0, 'last_activity_date': 1752322197, 'creation_date': 1752322197, 'question_id': 79699253, 'content_license': 'CC BY-SA 4.0', 'link': 'https://stackoverflow.com/questions/79699253/can-a-swiftui-parent-viewmodel-hold-a-reference-to-a-child-stateobject-viewmode', 'title': 'Can a SwiftUI parent ViewModel hold a reference to a child @StateObject ViewModel?'}, {'tags': ['winforms', 'radio-button'], 'owner': {'account_id': 26995194, 'reputation': 162, 'user_id': 20557422, 'user_type': 'registered', 'profile_image': 'https://i.sstatic.net/NdGss.jpg?s=256', 'display_name': 'Daryush', 'link': 'https://stackoverflow.com/users/20557422/daryush'}, 'is_answered': False, 'view_count': 1, 'answer_count': 0, 'score': 0, 'last_activity_date': 1752322187, 'creation_date': 1752322187, 'question_id': 79699252, 'content_license': 'CC BY-SA 4.0', 'link': 'https://stackoverflow.com/questions/79699252/radio-buttons-are-not-working-when-inside-a-splitcontainer', 'title': 'Radio Buttons are not working when inside a SplitContainer'}, {'tags': ['performance', 'protocol-buffers', 'avro', 'zigzag-encoding'], 'owner': {'account_id': 962022, 'reputation': 2456, 'user_id': 986161, 'user_type': 'registered', 'accept_rate': 67, 'profile_image': 'https://www.gravatar.com/avatar/41d89772540f08f9a1ff27a38c65b48c?s=256&d=identicon&r=PG', 'display_name': 'Endrju', 'link': 'https://stackoverflow.com/users/986161/endrju'}, 'is_answered': True, 'view_count': 9150, 'accepted_answer_id': 33936094, 'answer_count': 2, 'score': 24, 'last_activity_date': 1752322061, 'creation_date': 1448531203, 'last_edit_date': 1448532763, 'question_id': 33935266, 'content_license': 'CC BY-SA 3.0', 'link': 'https://stackoverflow.com/questions/33935266/whats-the-reason-behind-zigzag-encoding-in-protocol-buffers-and-avro', 'title': 'What&#39;s the reason behind ZigZag encoding in Protocol Buffers and Avro?'}, {'tags': ['next.js15'], 'owner': {'account_id': 20913430, 'reputation': 473, 'user_id': 15363745, 'user_type': 'registered', 'profile_image': 'https://lh3.googleusercontent.com/a-/AOh14GislpABFT_UcC_hqKBvN8Zmz6iaDZQDNxXRuigz=k-s256', 'display_name': 'Yellow Clock', 'link': 'https://stackoverflow.com/users/15363745/yellow-clock'}, 'is_answered': False, 'view_count': 23, 'answer_count': 0, 'score': -1, 'last_activity_date': 1752322052, 'creation_date': 1752321250, 'last_edit_date': 1752322052, 'question_id': 79699244, 'content_license': 'CC BY-SA 4.0', 'link': 'https://stackoverflow.com/questions/79699244/problem-type-id-string-is-missing-the-following-properties-from-type-p', 'title': 'Problem: Type &#39;{ id: string; }&#39; is missing the following properties from type &#39;Promise&lt;any&gt;'}, {'tags': ['php', 'mysqli', 'prepared-statement'], 'owner': {'account_id': 49738, 'reputation': 529, 'user_id': 148225, 'user_type': 'registered', 'accept_rate': 73, 'profile_image': 'https://www.gravatar.com/avatar/0a6a782bc68eeb9abb1fe1fb320e7d9a?s=256&d=identicon&r=PG', 'display_name': 'Ian', 'link': 'https://stackoverflow.com/users/148225/ian'}, 'is_answered': True, 'view_count': 3649, 'accepted_answer_id': 20727990, 'answer_count': 2, 'score': -1, 'last_activity_date': 1752321929, 'creation_date': 1387701083, 'last_edit_date': 1752321929, 'question_id': 20727608, 'content_license': 'CC BY-SA 4.0', 'link': 'https://stackoverflow.com/questions/20727608/how-to-get-num-rows-after-get-result', 'title': 'How to get num_rows after get_result?'}, {'tags': ['next.js', 'payload-cms'], 'owner': {'account_id': 1303929, 'reputation': 6919, 'user_id': 1253298, 'user_type': 'registered', 'accept_rate': 53, 'profile_image': 'https://i.sstatic.net/h0lmg.jpg?s=256', 'display_name': 'BBaysinger', 'link': 'https://stackoverflow.com/users/1253298/bbaysinger'}, 'is_answered': False, 'view_count': 8, 'answer_count': 0, 'score': 0, 'last_activity_date': 1752321817, 'creation_date': 1752321817, 'question_id': 79699250, 'content_license': 'CC BY-SA 4.0', 'link': 'https://stackoverflow.com/questions/79699250/looking-for-an-example-of-payload-3-47-running-without-nextjs-if-thats-standar', 'title': 'Looking for an example of Payload 3.47 running without NextJS, if that&#39;s standard, or to know if it&#39;s non-standard'}, {'tags': ['flutter', 'dart'], 'owner': {'account_id': 19462119, 'reputation': 510, 'user_id': 14236206, 'user_type': 'registered', 'profile_image': 'https://www.gravatar.com/avatar/4c6378076f5804dcc37a7e30937629f4?s=256&d=identicon&r=PG&f=y&so-version=2', 'display_name': 'blackbird', 'link': 'https://stackoverflow.com/users/14236206/blackbird'}, 'is_answered': False, 'view_count': 8918, 'answer_count': 1, 'score': 5, 'last_activity_date': 1752321815, 'creation_date': 1606215796, 'last_edit_date': 1606220028, 'question_id': 64985111, 'content_license': 'CC BY-SA 4.0', 'link': 'https://stackoverflow.com/questions/64985111/failed-assertion-line-5070-pos-12-optimized-out-is-not-true', 'title': 'Failed assertion: line 5070 pos 12: &#39;&lt;optimized out&gt;&#39;: is not true'}, {'tags': ['java', 'android-studio', 'mp4', 'avi', 'm3u8'], 'owner': {'account_id': 13893433, 'reputation': 143, 'user_id': 10030856, 'user_type': 'registered', 'profile_image': 'https://www.gravatar.com/avatar/2d3955c435099188b345554a7aec63b4?s=256&d=identicon&r=PG&f=y&so-version=2', 'display_name': 'wiils', 'link': 'https://stackoverflow.com/users/10030856/wiils'}, 'is_answered': False, 'view_count': 9013, 'answer_count': 2, 'score': 0, 'last_activity_date': 1752321815, 'creation_date': 1534516673, 'last_edit_date': 1534924008, 'question_id': 51897719, 'content_license': 'CC BY-SA 4.0', 'link': 'https://stackoverflow.com/questions/51897719/downloading-ts-files', 'title': 'Downloading .ts files'}, {'tags': ['java', 'maven', 'selenium', 'cucumber'], 'owner': {'account_id': 14127094, 'reputation': 11, 'user_id': 10206012, 'user_type': 'registered', 'profile_image': 'https://www.gravatar.com/avatar/49736c0777120b4f5bc4a022d1e5f278?s=256&d=identicon&r=PG&f=y&so-version=2', 'display_name': 'kp1439', 'link': 'https://stackoverflow.com/users/10206012/kp1439'}, 'is_answered': False, 'view_count': 13557, 'answer_count': 2, 'score': 1, 'last_activity_date': 1752321815, 'creation_date': 1534092577, 'last_edit_date': 1534093614, 'question_id': 51810880, 'content_license': 'CC BY-SA 4.0', 'link': 'https://stackoverflow.com/questions/51810880/runwithcucumber-class-error-the-import-cucumber-api-junit-cucumber-cannot-b', 'title': '@RunWith(Cucumber.class) error. The import cucumber.api.junit.Cucumber; cannot be resolved'}, {'tags': ['java', 'android'], 'owner': {'account_id': 11185145, 'reputation': 21, 'user_id': 8207771, 'user_type': 'registered', 'profile_image': 'https://lh4.googleusercontent.com/-Js353EzJaC4/AAAAAAAAAAI/AAAAAAAACRQ/PO3J2M2ffvo/s256-rj/photo.jpg', 'display_name': 'oMaR Waleed', 'link': 'https://stackoverflow.com/users/8207771/omar-waleed'}, 'is_answered': False, 'view_count': 10514, 'answer_count': 3, 'score': 2, 'last_activity_date': 1752321815, 'creation_date': 1498272815, 'last_edit_date': 1498289510, 'question_id': 44732283, 'content_license': 'CC BY-SA 3.0', 'link': 'https://stackoverflow.com/questions/44732283/generate-signed-apk-errors-while-building-apk-you-can-find-the-errors-in-the', 'title': 'Generate Signed APK: Errors while building APK. You can find the errors in the &#39;Messages&#39; view'}, {'tags': ['date', 'coldfusion'], 'owner': {'account_id': 1582648, 'reputation': 1827, 'user_id': 1532104, 'user_type': 'registered', 'accept_rate': 29, 'profile_image': 'https://www.gravatar.com/avatar/9163f18494c738d1a484e9af63b40ed3?s=256&d=identicon&r=PG', 'display_name': 'user125264', 'link': 'https://stackoverflow.com/users/1532104/user125264'}, 'is_answered': True, 'view_count': 2305, 'answer_count': 2, 'score': 2, 'last_activity_date': 1752321762, 'creation_date': 1405046006, 'question_id': 24689252, 'content_license': 'CC BY-SA 3.0', 'link': 'https://stackoverflow.com/questions/24689252/coldfusion-get-the-date-for-next-monday', 'title': 'coldfusion get the date for next Monday'}, {'tags': ['network-programming', 'websocket', 'port'], 'owner': {'account_id': 7620957, 'reputation': 333, 'user_id': 5778994, 'user_type': 'registered', 'profile_image': 'https://www.gravatar.com/avatar/99fb201f18530ed6f9902d468f0af162?s=256&d=identicon&r=PG&f=y&so-version=2', 'display_name': 'Pippin', 'link': 'https://stackoverflow.com/users/5778994/pippin'}, 'is_answered': False, 'view_count': 6, 'answer_count': 0, 'score': 0, 'last_activity_date': 1752321761, 'creation_date': 1752321761, 'question_id': 79699249, 'content_license': 'CC BY-SA 4.0', 'link': 'https://stackoverflow.com/questions/79699249/advantages-in-using-different-ports-in-networking', 'title': 'Advantages in using different ports in networking'}, {'tags': ['php', 'laravel', 'laravel-12'], 'owner': {'account_id': 1106617, 'reputation': 1225, 'user_id': 4908189, 'user_type': 'registered', 'accept_rate': 24, 'profile_image': 'https://www.gravatar.com/avatar/e67dbb491cf350d1a6387e5dffeece2f?s=256&d=identicon&r=PG', 'display_name': 'nischalinn', 'link': 'https://stackoverflow.com/users/4908189/nischalinn'}, 'is_answered': False, 'view_count': 8, 'answer_count': 0, 'score': 0, 'last_activity_date': 1752321725, 'creation_date': 1752321725, 'question_id': 79699248, 'content_license': 'CC BY-SA 4.0', 'link': 'https://stackoverflow.com/questions/79699248/using-for-loop-to-render-image-in-background-image', 'title': 'using for loop to render image in background image'}, {'tags': ['javascript', 'google-gemini'], 'owner': {'account_id': 17103255, 'reputation': 139, 'user_id': 12375858, 'user_type': 'registered', 'profile_image': 'https://i.sstatic.net/6uwL2.jpg?s=256', 'display_name': 'Yoshi', 'link': 'https://stackoverflow.com/users/12375858/yoshi'}, 'is_answered': False, 'view_count': 2768, 'answer_count': 3, 'score': 2, 'last_activity_date': 1752321631, 'creation_date': 1712676937, 'last_edit_date': 1752321631, 'question_id': 78299605, 'content_license': 'CC BY-SA 4.0', 'link': 'https://stackoverflow.com/questions/78299605/cannot-find-module-google-generative-ai', 'title': 'Cannot find module &#39;@google/generative-ai&#39;'}, {'tags': ['azure', 'azure-devops', 'azure-pipelines', 'cicd'], 'owner': {'account_id': 42995249, 'reputation': 1, 'user_id': 31023599, 'user_type': 'registered', 'profile_image': 'https://www.gravatar.com/avatar/f26407b46df23941ae427220f117cb32?s=256&d=identicon&r=PG&f=y&so-version=2', 'display_name': 'Deepak D', 'link': 'https://stackoverflow.com/users/31023599/deepak-d'}, 'is_answered': False, 'view_count': 19, 'answer_count': 1, 'score': -1, 'last_activity_date': 1752321558, 'creation_date': 1752301612, 'last_edit_date': 1752306604, 'question_id': 79699052, 'content_license': 'CC BY-SA 4.0', 'link': 'https://stackoverflow.com/questions/79699052/approval-stage-in-azure-devops', 'title': 'Approval stage in Azure Devops'}, {'tags': ['php', 'sql', 'mysql', 'installation'], 'owner': {'account_id': 1281721, 'reputation': 518, 'user_id': 1235692, 'user_type': 'registered', 'accept_rate': 100, 'profile_image': 'https://i.sstatic.net/2SiSP.jpg?s=256', 'display_name': 'MrLewk', 'link': 'https://stackoverflow.com/users/1235692/mrlewk'}, 'is_answered': True, 'view_count': 131, 'answer_count': 1, 'score': 1, 'last_activity_date': 1752321497, 'creation_date': 1403524700, 'last_edit_date': 1752321364, 'question_id': 24365337, 'content_license': 'CC BY-SA 4.0', 'link': 'https://stackoverflow.com/questions/24365337/what-is-the-most-efficient-way-to-install-a-large-mysql-database', 'title': 'What is the most efficient way to install a large mysql database'}, {'tags': ['java', 'spring-boot', 'gradle', 'port'], 'owner': {'account_id': 3322011, 'reputation': 3877, 'user_id': 9263418, 'user_type': 'registered', 'profile_image': 'https://i.sstatic.net/IOML3.jpg?s=256', 'display_name': 'Anonymous Creator', 'link': 'https://stackoverflow.com/users/9263418/anonymous-creator'}, 'is_answered': True, 'view_count': 474845, 'accepted_answer_id': 56500768, 'answer_count': 27, 'score': 76, 'last_activity_date': 1752321476, 'creation_date': 1559934099, 'last_edit_date': 1724983016, 'question_id': 56499928, 'content_license': 'CC BY-SA 4.0', 'link': 'https://stackoverflow.com/questions/56499928/web-server-failed-to-start-port-8080-was-already-in-use-spring-boot-microservi', 'title': 'Web server failed to start. Port 8080 was already in use. Spring Boot microservice'}, {'tags': ['azure', 'azure-data-factory'], 'owner': {'account_id': 42985111, 'reputation': 1, 'user_id': 31019146, 'user_type': 'registered', 'profile_image': 'https://www.gravatar.com/avatar/d7f160a177363eab46109ae0150074ac?s=256&d=identicon&r=PG&f=y&so-version=2', 'display_name': 'Robbert-Jan Wijnen', 'link': 'https://stackoverflow.com/users/31019146/robbert-jan-wijnen'}, 'is_answered': False, 'view_count': 24, 'answer_count': 1, 'score': 0, 'last_activity_date': 1752321310, 'creation_date': 1752239036, 'question_id': 79698381, 'content_license': 'CC BY-SA 4.0', 'link': 'https://stackoverflow.com/questions/79698381/adf-copy-activity-mapping-complete-object-within-array', 'title': 'ADF copy activity mapping complete object within array'}, {'tags': ['artificial-intelligence', 'openai-api', 'rag'], 'owner': {'account_id': 42991420, 'reputation': 1, 'user_id': 31021949, 'user_type': 'registered', 'profile_image': 'https://www.gravatar.com/avatar/68469a9f459d0691f64c8a4c6d400730?s=256&d=identicon&r=PG&f=y&so-version=2', 'display_name': 'Beni', 'link': 'https://stackoverflow.com/users/31021949/beni'}, 'is_answered': False, 'view_count': 29, 'closed_date': 1752272820, 'answer_count': 0, 'score': -4, 'last_activity_date': 1752321229, 'creation_date': 1752270024, 'last_edit_date': 1752321229, 'question_id': 79698856, 'link': 'https://stackoverflow.com/questions/79698856/best-ai-method-to-read-and-query-a-large-pdf-document', 'closed_reason': 'Not suitable for this site', 'title': 'Best AI method to read and query a large PDF document'}, {'tags': ['react-native'], 'owner': {'account_id': 20065073, 'reputation': 29, 'user_id': 14710917, 'user_type': 'registered', 'profile_image': 'https://lh3.googleusercontent.com/-AnnyjMXvZf0/AAAAAAAAAAI/AAAAAAAAAAA/AMZuucndaqzD8-Tt5DafiQVIxvejQyy4IA/s96-c/s256-rj/photo.jpg', 'display_name': 'mohammed ibrahim', 'link': 'https://stackoverflow.com/users/14710917/mohammed-ibrahim'}, 'is_answered': False, 'view_count': 24, 'answer_count': 0, 'score': -1, 'last_activity_date': 1752321149, 'creation_date': 1752314857, 'last_edit_date': 1752321149, 'question_id': 79699181, 'content_license': 'CC BY-SA 4.0', 'link': 'https://stackoverflow.com/questions/79699181/react-native-ios-pod-issue', 'title': 'React Native iOS pod issue'}, {'tags': ['html', 'autocomplete', 'dropdown'], 'owner': {'account_id': 42996092, 'reputation': 1, 'user_id': 31024050, 'user_type': 'registered', 'profile_image': 'https://www.gravatar.com/avatar/2d590ea3725540371f1deff0358ac936?s=256&d=identicon&r=PG&f=y&so-version=2', 'display_name': 'David H.', 'link': 'https://stackoverflow.com/users/31024050/david-h'}, 'is_answered': False, 'view_count': 26, 'answer_count': 1, 'score': 0, 'last_activity_date': 1752321037, 'creation_date': 1752315261, 'last_edit_date': 1752317403, 'question_id': 79699186, 'content_license': 'CC BY-SA 4.0', 'link': 'https://stackoverflow.com/questions/79699186/how-to-link-the-autocomplete-dropdown-item-to-a-subsection-of-same-page-without', 'title': 'How to link the Autocomplete dropdown item to a subsection of same page without displaying full url name'}, {'tags': ['vue.js', 'vuejs3'], 'owner': {'account_id': 14929290, 'reputation': 541, 'user_id': 10779129, 'user_type': 'registered', 'profile_image': 'https://www.gravatar.com/avatar/de5f77a69d67c235fd9e60bc3b02a794?s=256&d=identicon&r=PG&f=y&so-version=2', 'display_name': 'kcsujeet', 'link': 'https://stackoverflow.com/users/10779129/kcsujeet'}, 'is_answered': True, 'view_count': 609, 'accepted_answer_id': 77952233, 'answer_count': 2, 'score': 1, 'last_activity_date': 1752321014, 'creation_date': 1707270159, 'question_id': 77951785, 'content_license': 'CC BY-SA 4.0', 'link': 'https://stackoverflow.com/questions/77951785/getting-write-operation-failed-warning-with-refs', 'title': 'Getting write operation failed warning with refs'}, {'tags': ['godot', 'gdscript'], 'owner': {'account_id': 42867845, 'reputation': 1, 'user_id': 31025143, 'user_type': 'registered', 'profile_image': 'https://www.gravatar.com/avatar/8cb46cb4a12945c692933add376c1ef1?s=256&d=identicon&r=PG&f=y&so-version=2', 'display_name': 'zero gamer', 'link': 'https://stackoverflow.com/users/31025143/zero-gamer'}, 'is_answered': False, 'view_count': 7, 'answer_count': 0, 'score': -1, 'last_activity_date': 1752320999, 'creation_date': 1752320999, 'question_id': 79699242, 'content_license': 'CC BY-SA 4.0', 'link': 'https://stackoverflow.com/questions/79699242/how-can-i-code-in-godot-4-3-that-if-enemy-just-see-main-player-then-play-a-anima', 'title': 'how can i code in godot 4.3 that if enemy just see main player then play a animation?'}, {'tags': ['playwright', 'playwright-typescript'], 'owner': {'account_id': 453863, 'reputation': 8723, 'user_id': 851097, 'user_type': 'registered', 'accept_rate': 26, 'profile_image': 'https://www.gravatar.com/avatar/d4852bc32c3e741316d668526cdcf171?s=256&d=identicon&r=PG', 'display_name': 'Chris Hansen', 'link': 'https://stackoverflow.com/users/851097/chris-hansen'}, 'is_answered': False, 'view_count': 38, 'answer_count': 1, 'score': 0, 'last_activity_date': 1752320952, 'creation_date': 1752279646, 'last_edit_date': 1752320952, 'question_id': 79698928, 'content_license': 'CC BY-SA 4.0', 'link': 'https://stackoverflow.com/questions/79698928/how-to-get-the-id-from-url-using-playwright', 'title': 'How to get the ID from URL using Playwright?'}, {'tags': ['javascript', 'openssl', 'ssl-certificate', 'deno', 'quic'], 'owner': {'account_id': 22199407, 'reputation': 41, 'user_id': 16440336, 'user_type': 'registered', 'profile_image': 'https://lh3.googleusercontent.com/a/AATXAJxyCBHeeVkzOaVnmWa0Ck0rE8jCUq_kwmwcInA2=k-s256', 'display_name': 'Товарищ Понечка', 'link': 'https://stackoverflow.com/users/16440336/%d0%a2%d0%be%d0%b2%d0%b0%d1%80%d0%b8%d1%89-%d0%9f%d0%be%d0%bd%d0%b5%d1%87%d0%ba%d0%b0'}, 'is_answered': False, 'view_count': 10, 'answer_count': 0, 'score': 0, 'last_activity_date': 1752320873, 'creation_date': 1752320873, 'question_id': 79699241, 'content_license': 'CC BY-SA 4.0', 'link': 'https://stackoverflow.com/questions/79699241/why-webtransport-cannot-connect-to-my-server', 'title': 'Why WebTransport cannot connect to my server?'}, {'tags': ['python', 'visual-studio-code', 'git-bash', 'python-poetry', 'oh-my-posh'], 'owner': {'account_id': 14918248, 'reputation': 137, 'user_id': 10771401, 'user_type': 'registered', 'profile_image': 'https://lh6.googleusercontent.com/-hxpc0zC2Lu8/AAAAAAAAAAI/AAAAAAAABQM/RxpBzzp79fE/s256-rj/photo.jpg', 'display_name': 'Buzz B', 'link': 'https://stackoverflow.com/users/10771401/buzz-b'}, 'is_answered': False, 'view_count': 11, 'answer_count': 0, 'score': 0, 'last_activity_date': 1752320697, 'creation_date': 1752320697, 'question_id': 79699240, 'content_license': 'CC BY-SA 4.0', 'link': 'https://stackoverflow.com/questions/79699240/vs-code-python-extension-injects-incorrect-start-up-script-oh-my-posh-variables', 'title': 'VS Code Python extension injects incorrect start up script oh-my-posh variables with shell integration'}, {'tags': ['c#', 'asynchronous', 'async-await'], 'owner': {'account_id': 5032545, 'reputation': 155, 'user_id': 6225921, 'user_type': 'registered', 'profile_image': 'https://www.gravatar.com/avatar/56f3cc2463b7b25f4254e19fc811565a?s=256&d=identicon&r=PG', 'display_name': 'chuackt', 'link': 'https://stackoverflow.com/users/6225921/chuackt'}, 'is_answered': False, 'view_count': 22, 'answer_count': 0, 'score': 0, 'last_activity_date': 1752320617, 'creation_date': 1752319111, 'last_edit_date': 1752320617, 'question_id': 79699227, 'content_license': 'CC BY-SA 4.0', 'link': 'https://stackoverflow.com/questions/79699227/is-the-finish-awaited-process-executed-using-multi-thread-or-interrupt-function', 'title': 'Is the finish awaited process executed using multi thread or interrupt function in this scenario'}, {'tags': ['typescript'], 'owner': {'account_id': 23262130, 'reputation': 871, 'user_id': 17348251, 'user_type': 'registered', 'profile_image': 'https://www.gravatar.com/avatar/d2e6e7ec585bd043b4621bdf6fe93dd2?s=256&d=identicon&r=PG', 'display_name': 'Pawan', 'link': 'https://stackoverflow.com/users/17348251/pawan'}, 'is_answered': False, 'view_count': 32, 'answer_count': 0, 'score': -4, 'last_activity_date': 1752320504, 'creation_date': 1752314645, 'last_edit_date': 1752320504, 'question_id': 79699180, 'content_license': 'CC BY-SA 4.0', 'link': 'https://stackoverflow.com/questions/79699180/type-checking-in-vite-react-project-why-do-i-need-tsc-when-tsserver-is-already', 'title': 'Type Checking in Vite/React Project: Why do I need tsc when tsserver is already working?'}, {'tags': ['django', 'django-models'], 'owner': {'account_id': 20432284, 'reputation': 11, 'user_id': 14990955, 'user_type': 'registered', 'profile_image': 'https://www.gravatar.com/avatar/a634b00248151f6909211de1dfe32637?s=256&d=identicon&r=PG&f=y&so-version=2', 'display_name': 'dAlexis', 'link': 'https://stackoverflow.com/users/14990955/dalexis'}, 'is_answered': False, 'view_count': 11, 'answer_count': 1, 'score': 0, 'last_activity_date': 1752320447, 'creation_date': 1752320194, 'question_id': 79699235, 'content_license': 'CC BY-SA 4.0', 'link': 'https://stackoverflow.com/questions/79699235/django-cannot-create-record-with-correct-foreign-key-to-charfield-with-spaces-in', 'title': 'Django cannot create record with correct foreign key to CharField with spaces in middle - getting surrounded by single and double quotes like &quot;&#39;a a&#39;&quot;'}, {'tags': ['python', 'numpy', 'data-cleaning', 'outliers', 'data-preprocessing'], 'owner': {'account_id': 40474849, 'reputation': 5, 'user_id': 29798592, 'user_type': 'registered', 'profile_image': 'https://www.gravatar.com/avatar/8e0d0817f1967f58e7e33e5204929616?s=256&d=identicon&r=PG&f=y&so-version=2', 'display_name': 'Maor Barzilay', 'link': 'https://stackoverflow.com/users/29798592/maor-barzilay'}, 'is_answered': False, 'view_count': 18, 'answer_count': 0, 'score': -3, 'last_activity_date': 1752320411, 'creation_date': 1752320333, 'last_edit_date': 1752320411, 'question_id': 79699237, 'content_license': 'CC BY-SA 4.0', 'link': 'https://stackoverflow.com/questions/79699237/how-to-properly-remove-outliers-in-sensor-data', 'title': 'How to properly remove outliers in sensor data?'}], 'has_more': True, 'quota_max': 300, 'quota_remaining': 299}\n"
          ]
        }
      ]
    },
    {
      "cell_type": "code",
      "source": [
        "print(result.json()['items'])"
      ],
      "metadata": {
        "colab": {
          "base_uri": "https://localhost:8080/"
        },
        "id": "qefjboF3XpdS",
        "outputId": "6f70bfb3-3fa2-46de-ebe3-78508de4234b"
      },
      "execution_count": 5,
      "outputs": [
        {
          "output_type": "stream",
          "name": "stdout",
          "text": [
            "[{'tags': ['ios', 'swiftui', 'mvvm'], 'owner': {'account_id': 338548, 'reputation': 1425, 'user_id': 667483, 'user_type': 'registered', 'accept_rate': 33, 'profile_image': 'https://i.sstatic.net/NSGaC.gif?s=256', 'display_name': 'surfrider', 'link': 'https://stackoverflow.com/users/667483/surfrider'}, 'is_answered': False, 'view_count': 2, 'answer_count': 0, 'score': 0, 'last_activity_date': 1752322197, 'creation_date': 1752322197, 'question_id': 79699253, 'content_license': 'CC BY-SA 4.0', 'link': 'https://stackoverflow.com/questions/79699253/can-a-swiftui-parent-viewmodel-hold-a-reference-to-a-child-stateobject-viewmode', 'title': 'Can a SwiftUI parent ViewModel hold a reference to a child @StateObject ViewModel?'}, {'tags': ['winforms', 'radio-button'], 'owner': {'account_id': 26995194, 'reputation': 162, 'user_id': 20557422, 'user_type': 'registered', 'profile_image': 'https://i.sstatic.net/NdGss.jpg?s=256', 'display_name': 'Daryush', 'link': 'https://stackoverflow.com/users/20557422/daryush'}, 'is_answered': False, 'view_count': 1, 'answer_count': 0, 'score': 0, 'last_activity_date': 1752322187, 'creation_date': 1752322187, 'question_id': 79699252, 'content_license': 'CC BY-SA 4.0', 'link': 'https://stackoverflow.com/questions/79699252/radio-buttons-are-not-working-when-inside-a-splitcontainer', 'title': 'Radio Buttons are not working when inside a SplitContainer'}, {'tags': ['performance', 'protocol-buffers', 'avro', 'zigzag-encoding'], 'owner': {'account_id': 962022, 'reputation': 2456, 'user_id': 986161, 'user_type': 'registered', 'accept_rate': 67, 'profile_image': 'https://www.gravatar.com/avatar/41d89772540f08f9a1ff27a38c65b48c?s=256&d=identicon&r=PG', 'display_name': 'Endrju', 'link': 'https://stackoverflow.com/users/986161/endrju'}, 'is_answered': True, 'view_count': 9150, 'accepted_answer_id': 33936094, 'answer_count': 2, 'score': 24, 'last_activity_date': 1752322061, 'creation_date': 1448531203, 'last_edit_date': 1448532763, 'question_id': 33935266, 'content_license': 'CC BY-SA 3.0', 'link': 'https://stackoverflow.com/questions/33935266/whats-the-reason-behind-zigzag-encoding-in-protocol-buffers-and-avro', 'title': 'What&#39;s the reason behind ZigZag encoding in Protocol Buffers and Avro?'}, {'tags': ['next.js15'], 'owner': {'account_id': 20913430, 'reputation': 473, 'user_id': 15363745, 'user_type': 'registered', 'profile_image': 'https://lh3.googleusercontent.com/a-/AOh14GislpABFT_UcC_hqKBvN8Zmz6iaDZQDNxXRuigz=k-s256', 'display_name': 'Yellow Clock', 'link': 'https://stackoverflow.com/users/15363745/yellow-clock'}, 'is_answered': False, 'view_count': 23, 'answer_count': 0, 'score': -1, 'last_activity_date': 1752322052, 'creation_date': 1752321250, 'last_edit_date': 1752322052, 'question_id': 79699244, 'content_license': 'CC BY-SA 4.0', 'link': 'https://stackoverflow.com/questions/79699244/problem-type-id-string-is-missing-the-following-properties-from-type-p', 'title': 'Problem: Type &#39;{ id: string; }&#39; is missing the following properties from type &#39;Promise&lt;any&gt;'}, {'tags': ['php', 'mysqli', 'prepared-statement'], 'owner': {'account_id': 49738, 'reputation': 529, 'user_id': 148225, 'user_type': 'registered', 'accept_rate': 73, 'profile_image': 'https://www.gravatar.com/avatar/0a6a782bc68eeb9abb1fe1fb320e7d9a?s=256&d=identicon&r=PG', 'display_name': 'Ian', 'link': 'https://stackoverflow.com/users/148225/ian'}, 'is_answered': True, 'view_count': 3649, 'accepted_answer_id': 20727990, 'answer_count': 2, 'score': -1, 'last_activity_date': 1752321929, 'creation_date': 1387701083, 'last_edit_date': 1752321929, 'question_id': 20727608, 'content_license': 'CC BY-SA 4.0', 'link': 'https://stackoverflow.com/questions/20727608/how-to-get-num-rows-after-get-result', 'title': 'How to get num_rows after get_result?'}, {'tags': ['next.js', 'payload-cms'], 'owner': {'account_id': 1303929, 'reputation': 6919, 'user_id': 1253298, 'user_type': 'registered', 'accept_rate': 53, 'profile_image': 'https://i.sstatic.net/h0lmg.jpg?s=256', 'display_name': 'BBaysinger', 'link': 'https://stackoverflow.com/users/1253298/bbaysinger'}, 'is_answered': False, 'view_count': 8, 'answer_count': 0, 'score': 0, 'last_activity_date': 1752321817, 'creation_date': 1752321817, 'question_id': 79699250, 'content_license': 'CC BY-SA 4.0', 'link': 'https://stackoverflow.com/questions/79699250/looking-for-an-example-of-payload-3-47-running-without-nextjs-if-thats-standar', 'title': 'Looking for an example of Payload 3.47 running without NextJS, if that&#39;s standard, or to know if it&#39;s non-standard'}, {'tags': ['flutter', 'dart'], 'owner': {'account_id': 19462119, 'reputation': 510, 'user_id': 14236206, 'user_type': 'registered', 'profile_image': 'https://www.gravatar.com/avatar/4c6378076f5804dcc37a7e30937629f4?s=256&d=identicon&r=PG&f=y&so-version=2', 'display_name': 'blackbird', 'link': 'https://stackoverflow.com/users/14236206/blackbird'}, 'is_answered': False, 'view_count': 8918, 'answer_count': 1, 'score': 5, 'last_activity_date': 1752321815, 'creation_date': 1606215796, 'last_edit_date': 1606220028, 'question_id': 64985111, 'content_license': 'CC BY-SA 4.0', 'link': 'https://stackoverflow.com/questions/64985111/failed-assertion-line-5070-pos-12-optimized-out-is-not-true', 'title': 'Failed assertion: line 5070 pos 12: &#39;&lt;optimized out&gt;&#39;: is not true'}, {'tags': ['java', 'android-studio', 'mp4', 'avi', 'm3u8'], 'owner': {'account_id': 13893433, 'reputation': 143, 'user_id': 10030856, 'user_type': 'registered', 'profile_image': 'https://www.gravatar.com/avatar/2d3955c435099188b345554a7aec63b4?s=256&d=identicon&r=PG&f=y&so-version=2', 'display_name': 'wiils', 'link': 'https://stackoverflow.com/users/10030856/wiils'}, 'is_answered': False, 'view_count': 9013, 'answer_count': 2, 'score': 0, 'last_activity_date': 1752321815, 'creation_date': 1534516673, 'last_edit_date': 1534924008, 'question_id': 51897719, 'content_license': 'CC BY-SA 4.0', 'link': 'https://stackoverflow.com/questions/51897719/downloading-ts-files', 'title': 'Downloading .ts files'}, {'tags': ['java', 'maven', 'selenium', 'cucumber'], 'owner': {'account_id': 14127094, 'reputation': 11, 'user_id': 10206012, 'user_type': 'registered', 'profile_image': 'https://www.gravatar.com/avatar/49736c0777120b4f5bc4a022d1e5f278?s=256&d=identicon&r=PG&f=y&so-version=2', 'display_name': 'kp1439', 'link': 'https://stackoverflow.com/users/10206012/kp1439'}, 'is_answered': False, 'view_count': 13557, 'answer_count': 2, 'score': 1, 'last_activity_date': 1752321815, 'creation_date': 1534092577, 'last_edit_date': 1534093614, 'question_id': 51810880, 'content_license': 'CC BY-SA 4.0', 'link': 'https://stackoverflow.com/questions/51810880/runwithcucumber-class-error-the-import-cucumber-api-junit-cucumber-cannot-b', 'title': '@RunWith(Cucumber.class) error. The import cucumber.api.junit.Cucumber; cannot be resolved'}, {'tags': ['java', 'android'], 'owner': {'account_id': 11185145, 'reputation': 21, 'user_id': 8207771, 'user_type': 'registered', 'profile_image': 'https://lh4.googleusercontent.com/-Js353EzJaC4/AAAAAAAAAAI/AAAAAAAACRQ/PO3J2M2ffvo/s256-rj/photo.jpg', 'display_name': 'oMaR Waleed', 'link': 'https://stackoverflow.com/users/8207771/omar-waleed'}, 'is_answered': False, 'view_count': 10514, 'answer_count': 3, 'score': 2, 'last_activity_date': 1752321815, 'creation_date': 1498272815, 'last_edit_date': 1498289510, 'question_id': 44732283, 'content_license': 'CC BY-SA 3.0', 'link': 'https://stackoverflow.com/questions/44732283/generate-signed-apk-errors-while-building-apk-you-can-find-the-errors-in-the', 'title': 'Generate Signed APK: Errors while building APK. You can find the errors in the &#39;Messages&#39; view'}, {'tags': ['date', 'coldfusion'], 'owner': {'account_id': 1582648, 'reputation': 1827, 'user_id': 1532104, 'user_type': 'registered', 'accept_rate': 29, 'profile_image': 'https://www.gravatar.com/avatar/9163f18494c738d1a484e9af63b40ed3?s=256&d=identicon&r=PG', 'display_name': 'user125264', 'link': 'https://stackoverflow.com/users/1532104/user125264'}, 'is_answered': True, 'view_count': 2305, 'answer_count': 2, 'score': 2, 'last_activity_date': 1752321762, 'creation_date': 1405046006, 'question_id': 24689252, 'content_license': 'CC BY-SA 3.0', 'link': 'https://stackoverflow.com/questions/24689252/coldfusion-get-the-date-for-next-monday', 'title': 'coldfusion get the date for next Monday'}, {'tags': ['network-programming', 'websocket', 'port'], 'owner': {'account_id': 7620957, 'reputation': 333, 'user_id': 5778994, 'user_type': 'registered', 'profile_image': 'https://www.gravatar.com/avatar/99fb201f18530ed6f9902d468f0af162?s=256&d=identicon&r=PG&f=y&so-version=2', 'display_name': 'Pippin', 'link': 'https://stackoverflow.com/users/5778994/pippin'}, 'is_answered': False, 'view_count': 6, 'answer_count': 0, 'score': 0, 'last_activity_date': 1752321761, 'creation_date': 1752321761, 'question_id': 79699249, 'content_license': 'CC BY-SA 4.0', 'link': 'https://stackoverflow.com/questions/79699249/advantages-in-using-different-ports-in-networking', 'title': 'Advantages in using different ports in networking'}, {'tags': ['php', 'laravel', 'laravel-12'], 'owner': {'account_id': 1106617, 'reputation': 1225, 'user_id': 4908189, 'user_type': 'registered', 'accept_rate': 24, 'profile_image': 'https://www.gravatar.com/avatar/e67dbb491cf350d1a6387e5dffeece2f?s=256&d=identicon&r=PG', 'display_name': 'nischalinn', 'link': 'https://stackoverflow.com/users/4908189/nischalinn'}, 'is_answered': False, 'view_count': 8, 'answer_count': 0, 'score': 0, 'last_activity_date': 1752321725, 'creation_date': 1752321725, 'question_id': 79699248, 'content_license': 'CC BY-SA 4.0', 'link': 'https://stackoverflow.com/questions/79699248/using-for-loop-to-render-image-in-background-image', 'title': 'using for loop to render image in background image'}, {'tags': ['javascript', 'google-gemini'], 'owner': {'account_id': 17103255, 'reputation': 139, 'user_id': 12375858, 'user_type': 'registered', 'profile_image': 'https://i.sstatic.net/6uwL2.jpg?s=256', 'display_name': 'Yoshi', 'link': 'https://stackoverflow.com/users/12375858/yoshi'}, 'is_answered': False, 'view_count': 2768, 'answer_count': 3, 'score': 2, 'last_activity_date': 1752321631, 'creation_date': 1712676937, 'last_edit_date': 1752321631, 'question_id': 78299605, 'content_license': 'CC BY-SA 4.0', 'link': 'https://stackoverflow.com/questions/78299605/cannot-find-module-google-generative-ai', 'title': 'Cannot find module &#39;@google/generative-ai&#39;'}, {'tags': ['azure', 'azure-devops', 'azure-pipelines', 'cicd'], 'owner': {'account_id': 42995249, 'reputation': 1, 'user_id': 31023599, 'user_type': 'registered', 'profile_image': 'https://www.gravatar.com/avatar/f26407b46df23941ae427220f117cb32?s=256&d=identicon&r=PG&f=y&so-version=2', 'display_name': 'Deepak D', 'link': 'https://stackoverflow.com/users/31023599/deepak-d'}, 'is_answered': False, 'view_count': 19, 'answer_count': 1, 'score': -1, 'last_activity_date': 1752321558, 'creation_date': 1752301612, 'last_edit_date': 1752306604, 'question_id': 79699052, 'content_license': 'CC BY-SA 4.0', 'link': 'https://stackoverflow.com/questions/79699052/approval-stage-in-azure-devops', 'title': 'Approval stage in Azure Devops'}, {'tags': ['php', 'sql', 'mysql', 'installation'], 'owner': {'account_id': 1281721, 'reputation': 518, 'user_id': 1235692, 'user_type': 'registered', 'accept_rate': 100, 'profile_image': 'https://i.sstatic.net/2SiSP.jpg?s=256', 'display_name': 'MrLewk', 'link': 'https://stackoverflow.com/users/1235692/mrlewk'}, 'is_answered': True, 'view_count': 131, 'answer_count': 1, 'score': 1, 'last_activity_date': 1752321497, 'creation_date': 1403524700, 'last_edit_date': 1752321364, 'question_id': 24365337, 'content_license': 'CC BY-SA 4.0', 'link': 'https://stackoverflow.com/questions/24365337/what-is-the-most-efficient-way-to-install-a-large-mysql-database', 'title': 'What is the most efficient way to install a large mysql database'}, {'tags': ['java', 'spring-boot', 'gradle', 'port'], 'owner': {'account_id': 3322011, 'reputation': 3877, 'user_id': 9263418, 'user_type': 'registered', 'profile_image': 'https://i.sstatic.net/IOML3.jpg?s=256', 'display_name': 'Anonymous Creator', 'link': 'https://stackoverflow.com/users/9263418/anonymous-creator'}, 'is_answered': True, 'view_count': 474845, 'accepted_answer_id': 56500768, 'answer_count': 27, 'score': 76, 'last_activity_date': 1752321476, 'creation_date': 1559934099, 'last_edit_date': 1724983016, 'question_id': 56499928, 'content_license': 'CC BY-SA 4.0', 'link': 'https://stackoverflow.com/questions/56499928/web-server-failed-to-start-port-8080-was-already-in-use-spring-boot-microservi', 'title': 'Web server failed to start. Port 8080 was already in use. Spring Boot microservice'}, {'tags': ['azure', 'azure-data-factory'], 'owner': {'account_id': 42985111, 'reputation': 1, 'user_id': 31019146, 'user_type': 'registered', 'profile_image': 'https://www.gravatar.com/avatar/d7f160a177363eab46109ae0150074ac?s=256&d=identicon&r=PG&f=y&so-version=2', 'display_name': 'Robbert-Jan Wijnen', 'link': 'https://stackoverflow.com/users/31019146/robbert-jan-wijnen'}, 'is_answered': False, 'view_count': 24, 'answer_count': 1, 'score': 0, 'last_activity_date': 1752321310, 'creation_date': 1752239036, 'question_id': 79698381, 'content_license': 'CC BY-SA 4.0', 'link': 'https://stackoverflow.com/questions/79698381/adf-copy-activity-mapping-complete-object-within-array', 'title': 'ADF copy activity mapping complete object within array'}, {'tags': ['artificial-intelligence', 'openai-api', 'rag'], 'owner': {'account_id': 42991420, 'reputation': 1, 'user_id': 31021949, 'user_type': 'registered', 'profile_image': 'https://www.gravatar.com/avatar/68469a9f459d0691f64c8a4c6d400730?s=256&d=identicon&r=PG&f=y&so-version=2', 'display_name': 'Beni', 'link': 'https://stackoverflow.com/users/31021949/beni'}, 'is_answered': False, 'view_count': 29, 'closed_date': 1752272820, 'answer_count': 0, 'score': -4, 'last_activity_date': 1752321229, 'creation_date': 1752270024, 'last_edit_date': 1752321229, 'question_id': 79698856, 'link': 'https://stackoverflow.com/questions/79698856/best-ai-method-to-read-and-query-a-large-pdf-document', 'closed_reason': 'Not suitable for this site', 'title': 'Best AI method to read and query a large PDF document'}, {'tags': ['react-native'], 'owner': {'account_id': 20065073, 'reputation': 29, 'user_id': 14710917, 'user_type': 'registered', 'profile_image': 'https://lh3.googleusercontent.com/-AnnyjMXvZf0/AAAAAAAAAAI/AAAAAAAAAAA/AMZuucndaqzD8-Tt5DafiQVIxvejQyy4IA/s96-c/s256-rj/photo.jpg', 'display_name': 'mohammed ibrahim', 'link': 'https://stackoverflow.com/users/14710917/mohammed-ibrahim'}, 'is_answered': False, 'view_count': 24, 'answer_count': 0, 'score': -1, 'last_activity_date': 1752321149, 'creation_date': 1752314857, 'last_edit_date': 1752321149, 'question_id': 79699181, 'content_license': 'CC BY-SA 4.0', 'link': 'https://stackoverflow.com/questions/79699181/react-native-ios-pod-issue', 'title': 'React Native iOS pod issue'}, {'tags': ['html', 'autocomplete', 'dropdown'], 'owner': {'account_id': 42996092, 'reputation': 1, 'user_id': 31024050, 'user_type': 'registered', 'profile_image': 'https://www.gravatar.com/avatar/2d590ea3725540371f1deff0358ac936?s=256&d=identicon&r=PG&f=y&so-version=2', 'display_name': 'David H.', 'link': 'https://stackoverflow.com/users/31024050/david-h'}, 'is_answered': False, 'view_count': 26, 'answer_count': 1, 'score': 0, 'last_activity_date': 1752321037, 'creation_date': 1752315261, 'last_edit_date': 1752317403, 'question_id': 79699186, 'content_license': 'CC BY-SA 4.0', 'link': 'https://stackoverflow.com/questions/79699186/how-to-link-the-autocomplete-dropdown-item-to-a-subsection-of-same-page-without', 'title': 'How to link the Autocomplete dropdown item to a subsection of same page without displaying full url name'}, {'tags': ['vue.js', 'vuejs3'], 'owner': {'account_id': 14929290, 'reputation': 541, 'user_id': 10779129, 'user_type': 'registered', 'profile_image': 'https://www.gravatar.com/avatar/de5f77a69d67c235fd9e60bc3b02a794?s=256&d=identicon&r=PG&f=y&so-version=2', 'display_name': 'kcsujeet', 'link': 'https://stackoverflow.com/users/10779129/kcsujeet'}, 'is_answered': True, 'view_count': 609, 'accepted_answer_id': 77952233, 'answer_count': 2, 'score': 1, 'last_activity_date': 1752321014, 'creation_date': 1707270159, 'question_id': 77951785, 'content_license': 'CC BY-SA 4.0', 'link': 'https://stackoverflow.com/questions/77951785/getting-write-operation-failed-warning-with-refs', 'title': 'Getting write operation failed warning with refs'}, {'tags': ['godot', 'gdscript'], 'owner': {'account_id': 42867845, 'reputation': 1, 'user_id': 31025143, 'user_type': 'registered', 'profile_image': 'https://www.gravatar.com/avatar/8cb46cb4a12945c692933add376c1ef1?s=256&d=identicon&r=PG&f=y&so-version=2', 'display_name': 'zero gamer', 'link': 'https://stackoverflow.com/users/31025143/zero-gamer'}, 'is_answered': False, 'view_count': 7, 'answer_count': 0, 'score': -1, 'last_activity_date': 1752320999, 'creation_date': 1752320999, 'question_id': 79699242, 'content_license': 'CC BY-SA 4.0', 'link': 'https://stackoverflow.com/questions/79699242/how-can-i-code-in-godot-4-3-that-if-enemy-just-see-main-player-then-play-a-anima', 'title': 'how can i code in godot 4.3 that if enemy just see main player then play a animation?'}, {'tags': ['playwright', 'playwright-typescript'], 'owner': {'account_id': 453863, 'reputation': 8723, 'user_id': 851097, 'user_type': 'registered', 'accept_rate': 26, 'profile_image': 'https://www.gravatar.com/avatar/d4852bc32c3e741316d668526cdcf171?s=256&d=identicon&r=PG', 'display_name': 'Chris Hansen', 'link': 'https://stackoverflow.com/users/851097/chris-hansen'}, 'is_answered': False, 'view_count': 38, 'answer_count': 1, 'score': 0, 'last_activity_date': 1752320952, 'creation_date': 1752279646, 'last_edit_date': 1752320952, 'question_id': 79698928, 'content_license': 'CC BY-SA 4.0', 'link': 'https://stackoverflow.com/questions/79698928/how-to-get-the-id-from-url-using-playwright', 'title': 'How to get the ID from URL using Playwright?'}, {'tags': ['javascript', 'openssl', 'ssl-certificate', 'deno', 'quic'], 'owner': {'account_id': 22199407, 'reputation': 41, 'user_id': 16440336, 'user_type': 'registered', 'profile_image': 'https://lh3.googleusercontent.com/a/AATXAJxyCBHeeVkzOaVnmWa0Ck0rE8jCUq_kwmwcInA2=k-s256', 'display_name': 'Товарищ Понечка', 'link': 'https://stackoverflow.com/users/16440336/%d0%a2%d0%be%d0%b2%d0%b0%d1%80%d0%b8%d1%89-%d0%9f%d0%be%d0%bd%d0%b5%d1%87%d0%ba%d0%b0'}, 'is_answered': False, 'view_count': 10, 'answer_count': 0, 'score': 0, 'last_activity_date': 1752320873, 'creation_date': 1752320873, 'question_id': 79699241, 'content_license': 'CC BY-SA 4.0', 'link': 'https://stackoverflow.com/questions/79699241/why-webtransport-cannot-connect-to-my-server', 'title': 'Why WebTransport cannot connect to my server?'}, {'tags': ['python', 'visual-studio-code', 'git-bash', 'python-poetry', 'oh-my-posh'], 'owner': {'account_id': 14918248, 'reputation': 137, 'user_id': 10771401, 'user_type': 'registered', 'profile_image': 'https://lh6.googleusercontent.com/-hxpc0zC2Lu8/AAAAAAAAAAI/AAAAAAAABQM/RxpBzzp79fE/s256-rj/photo.jpg', 'display_name': 'Buzz B', 'link': 'https://stackoverflow.com/users/10771401/buzz-b'}, 'is_answered': False, 'view_count': 11, 'answer_count': 0, 'score': 0, 'last_activity_date': 1752320697, 'creation_date': 1752320697, 'question_id': 79699240, 'content_license': 'CC BY-SA 4.0', 'link': 'https://stackoverflow.com/questions/79699240/vs-code-python-extension-injects-incorrect-start-up-script-oh-my-posh-variables', 'title': 'VS Code Python extension injects incorrect start up script oh-my-posh variables with shell integration'}, {'tags': ['c#', 'asynchronous', 'async-await'], 'owner': {'account_id': 5032545, 'reputation': 155, 'user_id': 6225921, 'user_type': 'registered', 'profile_image': 'https://www.gravatar.com/avatar/56f3cc2463b7b25f4254e19fc811565a?s=256&d=identicon&r=PG', 'display_name': 'chuackt', 'link': 'https://stackoverflow.com/users/6225921/chuackt'}, 'is_answered': False, 'view_count': 22, 'answer_count': 0, 'score': 0, 'last_activity_date': 1752320617, 'creation_date': 1752319111, 'last_edit_date': 1752320617, 'question_id': 79699227, 'content_license': 'CC BY-SA 4.0', 'link': 'https://stackoverflow.com/questions/79699227/is-the-finish-awaited-process-executed-using-multi-thread-or-interrupt-function', 'title': 'Is the finish awaited process executed using multi thread or interrupt function in this scenario'}, {'tags': ['typescript'], 'owner': {'account_id': 23262130, 'reputation': 871, 'user_id': 17348251, 'user_type': 'registered', 'profile_image': 'https://www.gravatar.com/avatar/d2e6e7ec585bd043b4621bdf6fe93dd2?s=256&d=identicon&r=PG', 'display_name': 'Pawan', 'link': 'https://stackoverflow.com/users/17348251/pawan'}, 'is_answered': False, 'view_count': 32, 'answer_count': 0, 'score': -4, 'last_activity_date': 1752320504, 'creation_date': 1752314645, 'last_edit_date': 1752320504, 'question_id': 79699180, 'content_license': 'CC BY-SA 4.0', 'link': 'https://stackoverflow.com/questions/79699180/type-checking-in-vite-react-project-why-do-i-need-tsc-when-tsserver-is-already', 'title': 'Type Checking in Vite/React Project: Why do I need tsc when tsserver is already working?'}, {'tags': ['django', 'django-models'], 'owner': {'account_id': 20432284, 'reputation': 11, 'user_id': 14990955, 'user_type': 'registered', 'profile_image': 'https://www.gravatar.com/avatar/a634b00248151f6909211de1dfe32637?s=256&d=identicon&r=PG&f=y&so-version=2', 'display_name': 'dAlexis', 'link': 'https://stackoverflow.com/users/14990955/dalexis'}, 'is_answered': False, 'view_count': 11, 'answer_count': 1, 'score': 0, 'last_activity_date': 1752320447, 'creation_date': 1752320194, 'question_id': 79699235, 'content_license': 'CC BY-SA 4.0', 'link': 'https://stackoverflow.com/questions/79699235/django-cannot-create-record-with-correct-foreign-key-to-charfield-with-spaces-in', 'title': 'Django cannot create record with correct foreign key to CharField with spaces in middle - getting surrounded by single and double quotes like &quot;&#39;a a&#39;&quot;'}, {'tags': ['python', 'numpy', 'data-cleaning', 'outliers', 'data-preprocessing'], 'owner': {'account_id': 40474849, 'reputation': 5, 'user_id': 29798592, 'user_type': 'registered', 'profile_image': 'https://www.gravatar.com/avatar/8e0d0817f1967f58e7e33e5204929616?s=256&d=identicon&r=PG&f=y&so-version=2', 'display_name': 'Maor Barzilay', 'link': 'https://stackoverflow.com/users/29798592/maor-barzilay'}, 'is_answered': False, 'view_count': 18, 'answer_count': 0, 'score': -3, 'last_activity_date': 1752320411, 'creation_date': 1752320333, 'last_edit_date': 1752320411, 'question_id': 79699237, 'content_license': 'CC BY-SA 4.0', 'link': 'https://stackoverflow.com/questions/79699237/how-to-properly-remove-outliers-in-sensor-data', 'title': 'How to properly remove outliers in sensor data?'}]\n"
          ]
        }
      ]
    },
    {
      "cell_type": "code",
      "source": [
        "for questions in result.json()['items']:\n",
        "  print(questions['title'])\n",
        "  print(questions['link'])\n",
        "  print()"
      ],
      "metadata": {
        "colab": {
          "base_uri": "https://localhost:8080/"
        },
        "id": "WJxWHNQva23F",
        "outputId": "a9cae2f1-691c-4e69-ac84-f16b9f0c3733"
      },
      "execution_count": 6,
      "outputs": [
        {
          "output_type": "stream",
          "name": "stdout",
          "text": [
            "Can a SwiftUI parent ViewModel hold a reference to a child @StateObject ViewModel?\n",
            "https://stackoverflow.com/questions/79699253/can-a-swiftui-parent-viewmodel-hold-a-reference-to-a-child-stateobject-viewmode\n",
            "\n",
            "Radio Buttons are not working when inside a SplitContainer\n",
            "https://stackoverflow.com/questions/79699252/radio-buttons-are-not-working-when-inside-a-splitcontainer\n",
            "\n",
            "What&#39;s the reason behind ZigZag encoding in Protocol Buffers and Avro?\n",
            "https://stackoverflow.com/questions/33935266/whats-the-reason-behind-zigzag-encoding-in-protocol-buffers-and-avro\n",
            "\n",
            "Problem: Type &#39;{ id: string; }&#39; is missing the following properties from type &#39;Promise&lt;any&gt;\n",
            "https://stackoverflow.com/questions/79699244/problem-type-id-string-is-missing-the-following-properties-from-type-p\n",
            "\n",
            "How to get num_rows after get_result?\n",
            "https://stackoverflow.com/questions/20727608/how-to-get-num-rows-after-get-result\n",
            "\n",
            "Looking for an example of Payload 3.47 running without NextJS, if that&#39;s standard, or to know if it&#39;s non-standard\n",
            "https://stackoverflow.com/questions/79699250/looking-for-an-example-of-payload-3-47-running-without-nextjs-if-thats-standar\n",
            "\n",
            "Failed assertion: line 5070 pos 12: &#39;&lt;optimized out&gt;&#39;: is not true\n",
            "https://stackoverflow.com/questions/64985111/failed-assertion-line-5070-pos-12-optimized-out-is-not-true\n",
            "\n",
            "Downloading .ts files\n",
            "https://stackoverflow.com/questions/51897719/downloading-ts-files\n",
            "\n",
            "@RunWith(Cucumber.class) error. The import cucumber.api.junit.Cucumber; cannot be resolved\n",
            "https://stackoverflow.com/questions/51810880/runwithcucumber-class-error-the-import-cucumber-api-junit-cucumber-cannot-b\n",
            "\n",
            "Generate Signed APK: Errors while building APK. You can find the errors in the &#39;Messages&#39; view\n",
            "https://stackoverflow.com/questions/44732283/generate-signed-apk-errors-while-building-apk-you-can-find-the-errors-in-the\n",
            "\n",
            "coldfusion get the date for next Monday\n",
            "https://stackoverflow.com/questions/24689252/coldfusion-get-the-date-for-next-monday\n",
            "\n",
            "Advantages in using different ports in networking\n",
            "https://stackoverflow.com/questions/79699249/advantages-in-using-different-ports-in-networking\n",
            "\n",
            "using for loop to render image in background image\n",
            "https://stackoverflow.com/questions/79699248/using-for-loop-to-render-image-in-background-image\n",
            "\n",
            "Cannot find module &#39;@google/generative-ai&#39;\n",
            "https://stackoverflow.com/questions/78299605/cannot-find-module-google-generative-ai\n",
            "\n",
            "Approval stage in Azure Devops\n",
            "https://stackoverflow.com/questions/79699052/approval-stage-in-azure-devops\n",
            "\n",
            "What is the most efficient way to install a large mysql database\n",
            "https://stackoverflow.com/questions/24365337/what-is-the-most-efficient-way-to-install-a-large-mysql-database\n",
            "\n",
            "Web server failed to start. Port 8080 was already in use. Spring Boot microservice\n",
            "https://stackoverflow.com/questions/56499928/web-server-failed-to-start-port-8080-was-already-in-use-spring-boot-microservi\n",
            "\n",
            "ADF copy activity mapping complete object within array\n",
            "https://stackoverflow.com/questions/79698381/adf-copy-activity-mapping-complete-object-within-array\n",
            "\n",
            "Best AI method to read and query a large PDF document\n",
            "https://stackoverflow.com/questions/79698856/best-ai-method-to-read-and-query-a-large-pdf-document\n",
            "\n",
            "React Native iOS pod issue\n",
            "https://stackoverflow.com/questions/79699181/react-native-ios-pod-issue\n",
            "\n",
            "How to link the Autocomplete dropdown item to a subsection of same page without displaying full url name\n",
            "https://stackoverflow.com/questions/79699186/how-to-link-the-autocomplete-dropdown-item-to-a-subsection-of-same-page-without\n",
            "\n",
            "Getting write operation failed warning with refs\n",
            "https://stackoverflow.com/questions/77951785/getting-write-operation-failed-warning-with-refs\n",
            "\n",
            "how can i code in godot 4.3 that if enemy just see main player then play a animation?\n",
            "https://stackoverflow.com/questions/79699242/how-can-i-code-in-godot-4-3-that-if-enemy-just-see-main-player-then-play-a-anima\n",
            "\n",
            "How to get the ID from URL using Playwright?\n",
            "https://stackoverflow.com/questions/79698928/how-to-get-the-id-from-url-using-playwright\n",
            "\n",
            "Why WebTransport cannot connect to my server?\n",
            "https://stackoverflow.com/questions/79699241/why-webtransport-cannot-connect-to-my-server\n",
            "\n",
            "VS Code Python extension injects incorrect start up script oh-my-posh variables with shell integration\n",
            "https://stackoverflow.com/questions/79699240/vs-code-python-extension-injects-incorrect-start-up-script-oh-my-posh-variables\n",
            "\n",
            "Is the finish awaited process executed using multi thread or interrupt function in this scenario\n",
            "https://stackoverflow.com/questions/79699227/is-the-finish-awaited-process-executed-using-multi-thread-or-interrupt-function\n",
            "\n",
            "Type Checking in Vite/React Project: Why do I need tsc when tsserver is already working?\n",
            "https://stackoverflow.com/questions/79699180/type-checking-in-vite-react-project-why-do-i-need-tsc-when-tsserver-is-already\n",
            "\n",
            "Django cannot create record with correct foreign key to CharField with spaces in middle - getting surrounded by single and double quotes like &quot;&#39;a a&#39;&quot;\n",
            "https://stackoverflow.com/questions/79699235/django-cannot-create-record-with-correct-foreign-key-to-charfield-with-spaces-in\n",
            "\n",
            "How to properly remove outliers in sensor data?\n",
            "https://stackoverflow.com/questions/79699237/how-to-properly-remove-outliers-in-sensor-data\n",
            "\n"
          ]
        }
      ]
    },
    {
      "cell_type": "code",
      "source": [
        "for questions in result.json()['items']:\n",
        "  if questions['answer_count']==0:\n",
        "    print(questions['title'])\n",
        "    print(questions['link'])\n",
        "  else:\n",
        "    print(\"skipped\")\n",
        "\n",
        "  print()"
      ],
      "metadata": {
        "colab": {
          "base_uri": "https://localhost:8080/"
        },
        "id": "h6mdaWhaa7J8",
        "outputId": "56081f92-0fff-483b-9f98-700b86fdc3dc"
      },
      "execution_count": 7,
      "outputs": [
        {
          "output_type": "stream",
          "name": "stdout",
          "text": [
            "Can a SwiftUI parent ViewModel hold a reference to a child @StateObject ViewModel?\n",
            "https://stackoverflow.com/questions/79699253/can-a-swiftui-parent-viewmodel-hold-a-reference-to-a-child-stateobject-viewmode\n",
            "\n",
            "Radio Buttons are not working when inside a SplitContainer\n",
            "https://stackoverflow.com/questions/79699252/radio-buttons-are-not-working-when-inside-a-splitcontainer\n",
            "\n",
            "skipped\n",
            "\n",
            "Problem: Type &#39;{ id: string; }&#39; is missing the following properties from type &#39;Promise&lt;any&gt;\n",
            "https://stackoverflow.com/questions/79699244/problem-type-id-string-is-missing-the-following-properties-from-type-p\n",
            "\n",
            "skipped\n",
            "\n",
            "Looking for an example of Payload 3.47 running without NextJS, if that&#39;s standard, or to know if it&#39;s non-standard\n",
            "https://stackoverflow.com/questions/79699250/looking-for-an-example-of-payload-3-47-running-without-nextjs-if-thats-standar\n",
            "\n",
            "skipped\n",
            "\n",
            "skipped\n",
            "\n",
            "skipped\n",
            "\n",
            "skipped\n",
            "\n",
            "skipped\n",
            "\n",
            "Advantages in using different ports in networking\n",
            "https://stackoverflow.com/questions/79699249/advantages-in-using-different-ports-in-networking\n",
            "\n",
            "using for loop to render image in background image\n",
            "https://stackoverflow.com/questions/79699248/using-for-loop-to-render-image-in-background-image\n",
            "\n",
            "skipped\n",
            "\n",
            "skipped\n",
            "\n",
            "skipped\n",
            "\n",
            "skipped\n",
            "\n",
            "skipped\n",
            "\n",
            "Best AI method to read and query a large PDF document\n",
            "https://stackoverflow.com/questions/79698856/best-ai-method-to-read-and-query-a-large-pdf-document\n",
            "\n",
            "React Native iOS pod issue\n",
            "https://stackoverflow.com/questions/79699181/react-native-ios-pod-issue\n",
            "\n",
            "skipped\n",
            "\n",
            "skipped\n",
            "\n",
            "how can i code in godot 4.3 that if enemy just see main player then play a animation?\n",
            "https://stackoverflow.com/questions/79699242/how-can-i-code-in-godot-4-3-that-if-enemy-just-see-main-player-then-play-a-anima\n",
            "\n",
            "skipped\n",
            "\n",
            "Why WebTransport cannot connect to my server?\n",
            "https://stackoverflow.com/questions/79699241/why-webtransport-cannot-connect-to-my-server\n",
            "\n",
            "VS Code Python extension injects incorrect start up script oh-my-posh variables with shell integration\n",
            "https://stackoverflow.com/questions/79699240/vs-code-python-extension-injects-incorrect-start-up-script-oh-my-posh-variables\n",
            "\n",
            "Is the finish awaited process executed using multi thread or interrupt function in this scenario\n",
            "https://stackoverflow.com/questions/79699227/is-the-finish-awaited-process-executed-using-multi-thread-or-interrupt-function\n",
            "\n",
            "Type Checking in Vite/React Project: Why do I need tsc when tsserver is already working?\n",
            "https://stackoverflow.com/questions/79699180/type-checking-in-vite-react-project-why-do-i-need-tsc-when-tsserver-is-already\n",
            "\n",
            "skipped\n",
            "\n",
            "How to properly remove outliers in sensor data?\n",
            "https://stackoverflow.com/questions/79699237/how-to-properly-remove-outliers-in-sensor-data\n",
            "\n"
          ]
        }
      ]
    }
  ]
}